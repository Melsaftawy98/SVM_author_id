{
 "cells": [
  {
   "cell_type": "code",
   "execution_count": 17,
   "id": "f674a3af-e077-4db3-a650-bdccf5ecafa0",
   "metadata": {},
   "outputs": [
    {
     "name": "stdout",
     "output_type": "stream",
     "text": [
      "no. of Chris training emails: 7936\n",
      "no. of Sara training emails: 7884\n"
     ]
    }
   ],
   "source": [
    "#!/usr/bin/python3\n",
    "\n",
    "\"\"\" \n",
    "    This is the code to accompany the Lesson 2 (SVM) mini-project.\n",
    "\n",
    "    Use a SVM to identify emails from the Enron corpus by their authors:    \n",
    "    Sara has label 0\n",
    "    Chris has label 1\n",
    "\"\"\"\n",
    "    \n",
    "import sys\n",
    "import import_ipynb\n",
    "from time import time\n",
    "from email_preprocess import preprocess\n",
    "import numpy as np\n",
    "\n",
    "\n",
    "### features_train and features_test are the features for the training\n",
    "### and testing datasets, respectively\n",
    "### labels_train and labels_test are the corresponding item labels\n",
    "features_train, features_test, labels_train, labels_test = preprocess()\n",
    "\n",
    "\n"
   ]
  },
  {
   "cell_type": "code",
   "execution_count": 2,
   "id": "67d37274-bc7a-4023-9788-1c63d4179c5e",
   "metadata": {},
   "outputs": [],
   "source": [
    "from sklearn.svm import SVC"
   ]
  },
  {
   "cell_type": "code",
   "execution_count": 3,
   "id": "9e12c23d-3208-4622-8d71-5bee001be791",
   "metadata": {},
   "outputs": [],
   "source": [
    "#features_train = features_train[:int(len(features_train)/100)]\n",
    "#labels_train = labels_train[:int(len(labels_train)/100)]"
   ]
  },
  {
   "cell_type": "code",
   "execution_count": 4,
   "id": "8efe8b21-c0f5-4c6c-8fca-0ad3ee15c4cd",
   "metadata": {},
   "outputs": [
    {
     "name": "stdout",
     "output_type": "stream",
     "text": [
      "training time: 52.681 s\n"
     ]
    }
   ],
   "source": [
    "t0 = time()\n",
    "clf = SVC(kernel=\"rbf\",C=10000,gamma=\"auto\")\n",
    "clf.fit(features_train, labels_train)\n",
    "print (\"training time:\", round(time()-t0, 3), \"s\")"
   ]
  },
  {
   "cell_type": "code",
   "execution_count": 5,
   "id": "65db7f21-5232-462d-ae4e-add5266f34b7",
   "metadata": {},
   "outputs": [
    {
     "name": "stdout",
     "output_type": "stream",
     "text": [
      "testing time: 10.908 s\n"
     ]
    }
   ],
   "source": [
    "t0 = time()\n",
    "pred = clf.predict(features_test)\n",
    "print (\"testing time:\", round(time()-t0, 3), \"s\")"
   ]
  },
  {
   "cell_type": "code",
   "execution_count": 6,
   "id": "d340abb6-4d72-464e-a7e9-c7473380c63d",
   "metadata": {},
   "outputs": [
    {
     "name": "stdout",
     "output_type": "stream",
     "text": [
      "0.9908987485779295\n",
      "accuracy time: 9.043 s\n"
     ]
    }
   ],
   "source": [
    "t0 = time()\n",
    "print(clf.score(features_test, labels_test))\n",
    "print(\"accuracy time:\", round(time()-t0, 3), \"s\")"
   ]
  },
  {
   "cell_type": "code",
   "execution_count": 7,
   "id": "5d07ab73-987d-4362-830d-814d268ea154",
   "metadata": {},
   "outputs": [
    {
     "name": "stdout",
     "output_type": "stream",
     "text": [
      "Predicted author: Chris\n"
     ]
    }
   ],
   "source": [
    "predicted_label = clf.predict(features_test[10].reshape(1, -1))  # Reshape for a single sample\n",
    "if predicted_label[0] == 1:\n",
    "    print(\"Predicted author: Chris\")\n",
    "else:\n",
    "    print(\"Predicted author: Sara\")"
   ]
  },
  {
   "cell_type": "code",
   "execution_count": 15,
   "id": "0e06fdc8-032a-4adc-842a-761aea60145e",
   "metadata": {},
   "outputs": [
    {
     "name": "stdout",
     "output_type": "stream",
     "text": [
      "Number of test events predicted to be in the 'Chris' class: 877\n"
     ]
    }
   ],
   "source": [
    "num_chris_predictions = np.sum(pred == 1)\n",
    "\n",
    "print(\"Number of test events predicted to be in the 'Chris' class:\", num_chris_predictions)"
   ]
  },
  {
   "cell_type": "code",
   "execution_count": null,
   "id": "27870f83-3011-4bbe-aa2c-543aa328dd57",
   "metadata": {},
   "outputs": [],
   "source": []
  }
 ],
 "metadata": {
  "kernelspec": {
   "display_name": "Python 3 (ipykernel)",
   "language": "python",
   "name": "python3"
  },
  "language_info": {
   "codemirror_mode": {
    "name": "ipython",
    "version": 3
   },
   "file_extension": ".py",
   "mimetype": "text/x-python",
   "name": "python",
   "nbconvert_exporter": "python",
   "pygments_lexer": "ipython3",
   "version": "3.11.7"
  }
 },
 "nbformat": 4,
 "nbformat_minor": 5
}
